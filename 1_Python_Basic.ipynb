{
 "cells": [
  {
   "cell_type": "code",
   "execution_count": 1,
   "metadata": {},
   "outputs": [
    {
     "name": "stdout",
     "output_type": "stream",
     "text": [
      "안녕하세요\n"
     ]
    }
   ],
   "source": [
    "print(\"안녕하세요\")\n",
    "\n"
   ]
  },
  {
   "cell_type": "code",
   "execution_count": 2,
   "metadata": {},
   "outputs": [
    {
     "name": "stdout",
     "output_type": "stream",
     "text": [
      "['1번', '2번', '3번', '4번', '5번']\n"
     ]
    }
   ],
   "source": []
  },
  {
   "cell_type": "code",
   "execution_count": 5,
   "metadata": {},
   "outputs": [
    {
     "name": "stdout",
     "output_type": "stream",
     "text": [
      "b\n",
      "a\n"
     ]
    }
   ],
   "source": []
  },
  {
   "cell_type": "code",
   "execution_count": 6,
   "metadata": {},
   "outputs": [
    {
     "name": "stdout",
     "output_type": "stream",
     "text": [
      "['e']\n"
     ]
    }
   ],
   "source": []
  },
  {
   "cell_type": "code",
   "execution_count": 13,
   "metadata": {},
   "outputs": [],
   "source": [
    "#변수 입력 및 화면 출력\n",
    "\n",
    "a= 9\n",
    "b= 5\n",
    "#눈에 보이지는 않지만 시스템 내부적으로는 a, b메모리 공간이 만들어지고 9와 5의 값을 a ,b  공간에 각각 저장해두는 작업 수행"
   ]
  },
  {
   "cell_type": "code",
   "execution_count": null,
   "metadata": {},
   "outputs": [],
   "source": []
  },
  {
   "cell_type": "code",
   "execution_count": 16,
   "metadata": {},
   "outputs": [
    {
     "name": "stdout",
     "output_type": "stream",
     "text": [
      "14\n",
      "4\n",
      "45\n",
      "1.8\n",
      "1\n",
      "4\n"
     ]
    }
   ],
   "source": [
    "print( a + b )\n",
    "print (a - b )\n",
    "\n",
    "\n",
    "print( a * b ) \n",
    "print ( a / b) \n",
    "print ( a// b ) # 몫\n",
    "print ( a % b ) # 나눈 나머지"
   ]
  },
  {
   "cell_type": "code",
   "execution_count": 17,
   "metadata": {},
   "outputs": [
    {
     "name": "stdout",
     "output_type": "stream",
     "text": [
      "파이썬 데이터분석입문 play with data  데이터 수집\n"
     ]
    }
   ],
   "source": [
    "#변수 여러개 출력하기\n",
    "print('파이썬', '데이터분석입문', 'play with data ', '데이터 수집') # 변수 여러개 - 콤마(,)로 구분"
   ]
  },
  {
   "cell_type": "code",
   "execution_count": 19,
   "metadata": {},
   "outputs": [
    {
     "name": "stdout",
     "output_type": "stream",
     "text": [
      "귤/사과/배\n"
     ]
    }
   ],
   "source": [
    "#구분기호 사용하여 변수 여러 개 출력\n",
    "\n",
    "print('귤', '사과', '배' , sep='/') \n"
   ]
  },
  {
   "cell_type": "code",
   "execution_count": 20,
   "metadata": {},
   "outputs": [
    {
     "name": "stdout",
     "output_type": "stream",
     "text": [
      "1번 2번 3번 4번 5번 6번 7번 8번 9번 10번\n",
      "['1번', '2번', '3번', '4번', '5번', '6번', '7번', '8번', '9번', '10번']\n"
     ]
    }
   ],
   "source": [
    "#list값 입력하기\n",
    "\n",
    "print('1번', '2번', '3번', '4번', '5번', '6번', '7번', '8번', '9번' , '10번') # 일반적인 값 입력\n",
    "\n",
    "\n",
    "\n",
    "# 리스트값 입력 - 대괄호 []를 이용해서 데이터 (자료) 를 입력\n",
    "class_2_1 = ['1번', '2번', '3번', '4번', '5번', '6번', '7번', '8번', '9번', '10번' ]\n",
    "print(class_2_1)\n",
    "\n"
   ]
  },
  {
   "cell_type": "code",
   "execution_count": 21,
   "metadata": {},
   "outputs": [
    {
     "name": "stdout",
     "output_type": "stream",
     "text": [
      "['1번', '2번', '3번', '4번', '5번']\n",
      "['1번', '2번', '3번', '4번', '5번']\n"
     ]
    }
   ],
   "source": [
    "class_2_1=['1번','2번','3번','4번','5번']\n",
    "print(class_2_1)\n",
    "\n",
    "\n"
   ]
  },
  {
   "cell_type": "code",
   "execution_count": 24,
   "metadata": {},
   "outputs": [
    {
     "name": "stdout",
     "output_type": "stream",
     "text": [
      "b\n",
      "a\n",
      "['c', 'd', 'e']\n"
     ]
    }
   ],
   "source": [
    "k=['a','b','c','d','e']\n",
    "print(k[1]) #0부터 시작하여 1씩 증가된 값으로 위치 지정\n",
    "print(k[0]) #양수 : 왼쪽에서 오른쪽으로 추출\n",
    "print(k[2:]) #0부터 시작해서 두칸 옆으로 간 c부터 시작해서, 끝까지\n",
    "\n"
   ]
  },
  {
   "cell_type": "code",
   "execution_count": 26,
   "metadata": {},
   "outputs": [
    {
     "name": "stdout",
     "output_type": "stream",
     "text": [
      "b\n",
      "e\n",
      "['e']\n",
      "['a', 'b', 'c', 'd', 'e']\n",
      "['b', 'c', 'd', 'e']\n"
     ]
    }
   ],
   "source": [
    "k=['a','b','c','d','e']\n",
    "\n",
    "print(k[1]) #왼쪽에서 0부터 1씩 증가된 값으로 위치 지정\n",
    "\n",
    "print(k[-1])# 음수 : 오른쪽에서 왼쪽으로 추출, -1부터 시작하여 -1씩 증가된 값으로 위치 지정"
   ]
  },
  {
   "cell_type": "code",
   "execution_count": 27,
   "metadata": {},
   "outputs": [
    {
     "name": "stdout",
     "output_type": "stream",
     "text": [
      "['e']\n",
      "['a', 'b', 'c', 'd', 'e']\n",
      "['b', 'c', 'd', 'e']\n"
     ]
    }
   ],
   "source": [
    "#데이터 다루기 k에 저장된 값 중에 임의 구간의 여러 개의 값 추출하기.\n",
    "\n",
    "k = ['a', 'b', 'c' , 'd', 'e' ]\n",
    "# index 0  1    2      3    4\n",
    "# index-5  -4   -3    -2    -1 \n",
    "\n",
    "\n",
    "print(k[-1:])     # [인덱스 시작번호 : 인덱스 끝번호 ]\n",
    "\n",
    "print(k[-5:]) #오른쪽 맨 끝 -1에서 부터 시작해서 -1씩 증가된 값으로 위치 구하니 a 부터 끝까지 \n",
    "\n",
    "print(k[-4:])"
   ]
  },
  {
   "cell_type": "code",
   "execution_count": 28,
   "metadata": {},
   "outputs": [
    {
     "name": "stdout",
     "output_type": "stream",
     "text": [
      "['a', 'b', 'c', 'd']\n",
      "['b', 'c', 'd', 'a']\n"
     ]
    }
   ],
   "source": [
    "#리스트 합치기\n",
    "# list1+ list2\n",
    "\n",
    "list1 = ['a']\n",
    "list2 = ['b','c','d']\n",
    "\n",
    "print(list1+list2)\n",
    "print(list2+list1)"
   ]
  },
  {
   "cell_type": "code",
   "execution_count": 29,
   "metadata": {},
   "outputs": [
    {
     "name": "stdout",
     "output_type": "stream",
     "text": [
      "[1, 2, 3, 4]\n",
      "[2, 3, 4, 1]\n"
     ]
    }
   ],
   "source": [
    "#산술연산 하는 것이 아니라 데이터를 모은다는 것.\n",
    "\n",
    "int1=[1]\n",
    "int2=[2,3,4]\n",
    "print(int1+int2)   \n",
    "print(int2+int1)"
   ]
  },
  {
   "cell_type": "code",
   "execution_count": null,
   "metadata": {},
   "outputs": [],
   "source": []
  }
 ],
 "metadata": {
  "kernelspec": {
   "display_name": "Python 3",
   "language": "python",
   "name": "python3"
  },
  "language_info": {
   "codemirror_mode": {
    "name": "ipython",
    "version": 3
   },
   "file_extension": ".py",
   "mimetype": "text/x-python",
   "name": "python",
   "nbconvert_exporter": "python",
   "pygments_lexer": "ipython3",
   "version": "3.8.5"
  }
 },
 "nbformat": 4,
 "nbformat_minor": 4
}
